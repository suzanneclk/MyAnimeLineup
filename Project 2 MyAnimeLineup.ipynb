{
 "cells": [
  {
   "cell_type": "code",
   "execution_count": 2,
   "id": "9bb36a7d",
   "metadata": {},
   "outputs": [],
   "source": [
    "#import stuff\n",
    "import pandas as pd\n",
    "import seaborn as sns\n",
    "import matplotlib.pyplot as plt\n",
    "from sklearn.model_selection import train_test_split"
   ]
  },
  {
   "cell_type": "code",
   "execution_count": 3,
   "id": "f16e9dc0",
   "metadata": {},
   "outputs": [
    {
     "data": {
      "text/html": [
       "<div>\n",
       "<style scoped>\n",
       "    .dataframe tbody tr th:only-of-type {\n",
       "        vertical-align: middle;\n",
       "    }\n",
       "\n",
       "    .dataframe tbody tr th {\n",
       "        vertical-align: top;\n",
       "    }\n",
       "\n",
       "    .dataframe thead th {\n",
       "        text-align: right;\n",
       "    }\n",
       "</style>\n",
       "<table border=\"1\" class=\"dataframe\">\n",
       "  <thead>\n",
       "    <tr style=\"text-align: right;\">\n",
       "      <th></th>\n",
       "      <th>anime_id</th>\n",
       "      <th>title</th>\n",
       "      <th>title_english</th>\n",
       "      <th>title_japanese</th>\n",
       "      <th>title_synonyms</th>\n",
       "      <th>image_url</th>\n",
       "      <th>type</th>\n",
       "      <th>source</th>\n",
       "      <th>episodes</th>\n",
       "      <th>status</th>\n",
       "      <th>...</th>\n",
       "      <th>background</th>\n",
       "      <th>premiered</th>\n",
       "      <th>broadcast</th>\n",
       "      <th>related</th>\n",
       "      <th>producer</th>\n",
       "      <th>licensor</th>\n",
       "      <th>studio</th>\n",
       "      <th>genre</th>\n",
       "      <th>opening_theme</th>\n",
       "      <th>ending_theme</th>\n",
       "    </tr>\n",
       "  </thead>\n",
       "  <tbody>\n",
       "    <tr>\n",
       "      <th>0</th>\n",
       "      <td>11013</td>\n",
       "      <td>Inu x Boku SS</td>\n",
       "      <td>Inu X Boku Secret Service</td>\n",
       "      <td>妖狐×僕SS</td>\n",
       "      <td>Youko x Boku SS</td>\n",
       "      <td>https://myanimelist.cdn-dena.com/images/anime/...</td>\n",
       "      <td>TV</td>\n",
       "      <td>Manga</td>\n",
       "      <td>12</td>\n",
       "      <td>Finished Airing</td>\n",
       "      <td>...</td>\n",
       "      <td>Inu x Boku SS was licensed by Sentai Filmworks...</td>\n",
       "      <td>Winter 2012</td>\n",
       "      <td>Fridays at Unknown</td>\n",
       "      <td>{'Adaptation': [{'mal_id': 17207, 'type': 'man...</td>\n",
       "      <td>Aniplex, Square Enix, Mainichi Broadcasting Sy...</td>\n",
       "      <td>Sentai Filmworks</td>\n",
       "      <td>David Production</td>\n",
       "      <td>Comedy, Supernatural, Romance, Shounen</td>\n",
       "      <td>['\"Nirvana\" by MUCC']</td>\n",
       "      <td>['#1: \"Nirvana\" by MUCC (eps 1, 11-12)', '#2: ...</td>\n",
       "    </tr>\n",
       "    <tr>\n",
       "      <th>1</th>\n",
       "      <td>2104</td>\n",
       "      <td>Seto no Hanayome</td>\n",
       "      <td>My Bride is a Mermaid</td>\n",
       "      <td>瀬戸の花嫁</td>\n",
       "      <td>The Inland Sea Bride</td>\n",
       "      <td>https://myanimelist.cdn-dena.com/images/anime/...</td>\n",
       "      <td>TV</td>\n",
       "      <td>Manga</td>\n",
       "      <td>26</td>\n",
       "      <td>Finished Airing</td>\n",
       "      <td>...</td>\n",
       "      <td>NaN</td>\n",
       "      <td>Spring 2007</td>\n",
       "      <td>Unknown</td>\n",
       "      <td>{'Adaptation': [{'mal_id': 759, 'type': 'manga...</td>\n",
       "      <td>TV Tokyo, AIC, Square Enix, Sotsu</td>\n",
       "      <td>Funimation</td>\n",
       "      <td>Gonzo</td>\n",
       "      <td>Comedy, Parody, Romance, School, Shounen</td>\n",
       "      <td>['\"Romantic summer\" by SUN&amp;LUNAR']</td>\n",
       "      <td>['#1: \"Ashita e no Hikari (明日への光)\" by Asuka Hi...</td>\n",
       "    </tr>\n",
       "    <tr>\n",
       "      <th>2</th>\n",
       "      <td>5262</td>\n",
       "      <td>Shugo Chara!! Doki</td>\n",
       "      <td>Shugo Chara!! Doki</td>\n",
       "      <td>しゅごキャラ！！どきっ</td>\n",
       "      <td>Shugo Chara Ninenme, Shugo Chara! Second Year</td>\n",
       "      <td>https://myanimelist.cdn-dena.com/images/anime/...</td>\n",
       "      <td>TV</td>\n",
       "      <td>Manga</td>\n",
       "      <td>51</td>\n",
       "      <td>Finished Airing</td>\n",
       "      <td>...</td>\n",
       "      <td>NaN</td>\n",
       "      <td>Fall 2008</td>\n",
       "      <td>Unknown</td>\n",
       "      <td>{'Adaptation': [{'mal_id': 101, 'type': 'manga...</td>\n",
       "      <td>TV Tokyo, Sotsu</td>\n",
       "      <td>NaN</td>\n",
       "      <td>Satelight</td>\n",
       "      <td>Comedy, Magic, School, Shoujo</td>\n",
       "      <td>['#1: \"Minna no Tamago (みんなのたまご)\" by Shugo Cha...</td>\n",
       "      <td>['#1: \"Rottara Rottara (ロッタラ ロッタラ)\" by Buono! ...</td>\n",
       "    </tr>\n",
       "    <tr>\n",
       "      <th>3</th>\n",
       "      <td>721</td>\n",
       "      <td>Princess Tutu</td>\n",
       "      <td>Princess Tutu</td>\n",
       "      <td>プリンセスチュチュ</td>\n",
       "      <td>NaN</td>\n",
       "      <td>https://myanimelist.cdn-dena.com/images/anime/...</td>\n",
       "      <td>TV</td>\n",
       "      <td>Original</td>\n",
       "      <td>38</td>\n",
       "      <td>Finished Airing</td>\n",
       "      <td>...</td>\n",
       "      <td>Princess Tutu aired in two parts. The first pa...</td>\n",
       "      <td>Summer 2002</td>\n",
       "      <td>Fridays at Unknown</td>\n",
       "      <td>{'Adaptation': [{'mal_id': 1581, 'type': 'mang...</td>\n",
       "      <td>Memory-Tech, GANSIS, Marvelous AQL</td>\n",
       "      <td>ADV Films</td>\n",
       "      <td>Hal Film Maker</td>\n",
       "      <td>Comedy, Drama, Magic, Romance, Fantasy</td>\n",
       "      <td>['\"Morning Grace\" by Ritsuko Okazaki']</td>\n",
       "      <td>['\"Watashi No Ai Wa Chiisaikeredo\" by Ritsuko ...</td>\n",
       "    </tr>\n",
       "    <tr>\n",
       "      <th>4</th>\n",
       "      <td>12365</td>\n",
       "      <td>Bakuman. 3rd Season</td>\n",
       "      <td>Bakuman.</td>\n",
       "      <td>バクマン。</td>\n",
       "      <td>Bakuman Season 3</td>\n",
       "      <td>https://myanimelist.cdn-dena.com/images/anime/...</td>\n",
       "      <td>TV</td>\n",
       "      <td>Manga</td>\n",
       "      <td>25</td>\n",
       "      <td>Finished Airing</td>\n",
       "      <td>...</td>\n",
       "      <td>NaN</td>\n",
       "      <td>Fall 2012</td>\n",
       "      <td>Unknown</td>\n",
       "      <td>{'Adaptation': [{'mal_id': 9711, 'type': 'mang...</td>\n",
       "      <td>NHK, Shueisha</td>\n",
       "      <td>NaN</td>\n",
       "      <td>J.C.Staff</td>\n",
       "      <td>Comedy, Drama, Romance, Shounen</td>\n",
       "      <td>['#1: \"Moshimo no Hanashi (もしもの話)\" by nano.RIP...</td>\n",
       "      <td>['#1: \"Pride on Everyday\" by Sphere (eps 1-13)...</td>\n",
       "    </tr>\n",
       "  </tbody>\n",
       "</table>\n",
       "<p>5 rows × 31 columns</p>\n",
       "</div>"
      ],
      "text/plain": [
       "   anime_id                title              title_english title_japanese  \\\n",
       "0     11013        Inu x Boku SS  Inu X Boku Secret Service         妖狐×僕SS   \n",
       "1      2104     Seto no Hanayome      My Bride is a Mermaid          瀬戸の花嫁   \n",
       "2      5262   Shugo Chara!! Doki         Shugo Chara!! Doki    しゅごキャラ！！どきっ   \n",
       "3       721        Princess Tutu              Princess Tutu      プリンセスチュチュ   \n",
       "4     12365  Bakuman. 3rd Season                   Bakuman.          バクマン。   \n",
       "\n",
       "                                  title_synonyms  \\\n",
       "0                                Youko x Boku SS   \n",
       "1                           The Inland Sea Bride   \n",
       "2  Shugo Chara Ninenme, Shugo Chara! Second Year   \n",
       "3                                            NaN   \n",
       "4                               Bakuman Season 3   \n",
       "\n",
       "                                           image_url type    source  episodes  \\\n",
       "0  https://myanimelist.cdn-dena.com/images/anime/...   TV     Manga        12   \n",
       "1  https://myanimelist.cdn-dena.com/images/anime/...   TV     Manga        26   \n",
       "2  https://myanimelist.cdn-dena.com/images/anime/...   TV     Manga        51   \n",
       "3  https://myanimelist.cdn-dena.com/images/anime/...   TV  Original        38   \n",
       "4  https://myanimelist.cdn-dena.com/images/anime/...   TV     Manga        25   \n",
       "\n",
       "            status  ...                                         background  \\\n",
       "0  Finished Airing  ...  Inu x Boku SS was licensed by Sentai Filmworks...   \n",
       "1  Finished Airing  ...                                                NaN   \n",
       "2  Finished Airing  ...                                                NaN   \n",
       "3  Finished Airing  ...  Princess Tutu aired in two parts. The first pa...   \n",
       "4  Finished Airing  ...                                                NaN   \n",
       "\n",
       "     premiered           broadcast  \\\n",
       "0  Winter 2012  Fridays at Unknown   \n",
       "1  Spring 2007             Unknown   \n",
       "2    Fall 2008             Unknown   \n",
       "3  Summer 2002  Fridays at Unknown   \n",
       "4    Fall 2012             Unknown   \n",
       "\n",
       "                                             related  \\\n",
       "0  {'Adaptation': [{'mal_id': 17207, 'type': 'man...   \n",
       "1  {'Adaptation': [{'mal_id': 759, 'type': 'manga...   \n",
       "2  {'Adaptation': [{'mal_id': 101, 'type': 'manga...   \n",
       "3  {'Adaptation': [{'mal_id': 1581, 'type': 'mang...   \n",
       "4  {'Adaptation': [{'mal_id': 9711, 'type': 'mang...   \n",
       "\n",
       "                                            producer          licensor  \\\n",
       "0  Aniplex, Square Enix, Mainichi Broadcasting Sy...  Sentai Filmworks   \n",
       "1                  TV Tokyo, AIC, Square Enix, Sotsu        Funimation   \n",
       "2                                    TV Tokyo, Sotsu               NaN   \n",
       "3                 Memory-Tech, GANSIS, Marvelous AQL         ADV Films   \n",
       "4                                      NHK, Shueisha               NaN   \n",
       "\n",
       "             studio                                     genre  \\\n",
       "0  David Production    Comedy, Supernatural, Romance, Shounen   \n",
       "1             Gonzo  Comedy, Parody, Romance, School, Shounen   \n",
       "2         Satelight             Comedy, Magic, School, Shoujo   \n",
       "3    Hal Film Maker    Comedy, Drama, Magic, Romance, Fantasy   \n",
       "4         J.C.Staff           Comedy, Drama, Romance, Shounen   \n",
       "\n",
       "                                       opening_theme  \\\n",
       "0                              ['\"Nirvana\" by MUCC']   \n",
       "1                 ['\"Romantic summer\" by SUN&LUNAR']   \n",
       "2  ['#1: \"Minna no Tamago (みんなのたまご)\" by Shugo Cha...   \n",
       "3             ['\"Morning Grace\" by Ritsuko Okazaki']   \n",
       "4  ['#1: \"Moshimo no Hanashi (もしもの話)\" by nano.RIP...   \n",
       "\n",
       "                                        ending_theme  \n",
       "0  ['#1: \"Nirvana\" by MUCC (eps 1, 11-12)', '#2: ...  \n",
       "1  ['#1: \"Ashita e no Hikari (明日への光)\" by Asuka Hi...  \n",
       "2  ['#1: \"Rottara Rottara (ロッタラ ロッタラ)\" by Buono! ...  \n",
       "3  ['\"Watashi No Ai Wa Chiisaikeredo\" by Ritsuko ...  \n",
       "4  ['#1: \"Pride on Everyday\" by Sphere (eps 1-13)...  \n",
       "\n",
       "[5 rows x 31 columns]"
      ]
     },
     "execution_count": 3,
     "metadata": {},
     "output_type": "execute_result"
    }
   ],
   "source": [
    "#get data\n",
    "df = pd.read_csv(\"AnimeList.csv\") #fill this in with the csv name\n",
    "\n",
    "df.head()"
   ]
  },
  {
   "cell_type": "code",
   "execution_count": 10,
   "id": "02a90b44",
   "metadata": {
    "scrolled": true
   },
   "outputs": [
    {
     "data": {
      "text/plain": [
       "(4271, 32)"
      ]
     },
     "execution_count": 10,
     "metadata": {},
     "output_type": "execute_result"
    }
   ],
   "source": [
    "#testing space\n",
    "df = df[df[\"type\"] == \"TV\"]\n",
    "df.shape"
   ]
  },
  {
   "cell_type": "code",
   "execution_count": 5,
   "id": "26b5665c",
   "metadata": {},
   "outputs": [
    {
     "data": {
      "text/html": [
       "<div>\n",
       "<style scoped>\n",
       "    .dataframe tbody tr th:only-of-type {\n",
       "        vertical-align: middle;\n",
       "    }\n",
       "\n",
       "    .dataframe tbody tr th {\n",
       "        vertical-align: top;\n",
       "    }\n",
       "\n",
       "    .dataframe thead th {\n",
       "        text-align: right;\n",
       "    }\n",
       "</style>\n",
       "<table border=\"1\" class=\"dataframe\">\n",
       "  <thead>\n",
       "    <tr style=\"text-align: right;\">\n",
       "      <th></th>\n",
       "      <th>anime_id</th>\n",
       "      <th>title</th>\n",
       "      <th>title_english</th>\n",
       "      <th>title_japanese</th>\n",
       "      <th>title_synonyms</th>\n",
       "      <th>image_url</th>\n",
       "      <th>type</th>\n",
       "      <th>source</th>\n",
       "      <th>episodes</th>\n",
       "      <th>status</th>\n",
       "      <th>...</th>\n",
       "      <th>background</th>\n",
       "      <th>premiered</th>\n",
       "      <th>broadcast</th>\n",
       "      <th>related</th>\n",
       "      <th>producer</th>\n",
       "      <th>licensor</th>\n",
       "      <th>studio</th>\n",
       "      <th>genre</th>\n",
       "      <th>opening_theme</th>\n",
       "      <th>ending_theme</th>\n",
       "    </tr>\n",
       "  </thead>\n",
       "  <tbody>\n",
       "  </tbody>\n",
       "</table>\n",
       "<p>0 rows × 31 columns</p>\n",
       "</div>"
      ],
      "text/plain": [
       "Empty DataFrame\n",
       "Columns: [anime_id, title, title_english, title_japanese, title_synonyms, image_url, type, source, episodes, status, airing, aired_string, aired, duration, rating, score, scored_by, rank, popularity, members, favorites, background, premiered, broadcast, related, producer, licensor, studio, genre, opening_theme, ending_theme]\n",
       "Index: []\n",
       "\n",
       "[0 rows x 31 columns]"
      ]
     },
     "execution_count": 5,
     "metadata": {},
     "output_type": "execute_result"
    }
   ],
   "source": [
    "df[df[\"title_english\"] == \"Lucky Star\"]"
   ]
  },
  {
   "cell_type": "markdown",
   "id": "c2865e27",
   "metadata": {},
   "source": [
    "With that figured out, let's get our dataframe ready"
   ]
  },
  {
   "cell_type": "code",
   "execution_count": 6,
   "id": "e44bed09",
   "metadata": {},
   "outputs": [
    {
     "name": "stdout",
     "output_type": "stream",
     "text": [
      "137\n"
     ]
    }
   ],
   "source": [
    "all_lineups = \"Boku no Hero Academia, Little Witch Academia, Lucky☆Star, Konosuba, Overlord, Isekai Shokudo, Jojo no Kimyou na Bouken 3: Stardust Crusaders 2nd Season, Yuri on Ice, Sakamoto desu ga?, Hokuto no Ken, Initial D First Stage, Darker than Black: Kuro no Keiyakusha, Shingeki no Bahamut: Genesis, Ore Monogatari, Gakkou Gurashi, Nichijou, Spice and Wolf, Jojo no Kimyou na Bouken Part 3: Stardust Crusaders, Owari no Seraph, Nanbaka , Mob Psycho 100, Kobayashi-san Chi no Maid Dragon, Arakawa Under the Bridge, Fate/kaleid liner Prisma☆Illya, Fate/stay night: Unlimited Blade Works, Ansatsu Kyoushitsu, Death Parade, Hibike! Euphonium, Hyouka, Sailor♥Danshi, Uchouten Kazoku, Noragami, One Punch Man, Free!, Kekkai Sensen, Dagashi Kashi, Kotoura-san, Boku dake ga Inai Machi, Kamisama Hajimemashita, Gin no Saji, Fate/Zero , Mikakunin de Shinkoukei, Bokura wa Minna Kawaisou, Chuunibyou demo Koi ga Shitai!, Log Horizon, Gekkan Shoujou Nozaki-kun, Amagi Brilliant Park, Gugure! Kokkuri-san, Persona 4 the Golden Animation, Mekaku City Actors, Boku wa Tomodachi ga Sukunai, No Game No Life, Hataraku Maou-sama!, Fate/stay night, Cuticle Tantei, Shingeki no Kyojin, Psycho-Pass, Wagaya no Oinari-sama, Devil Survivor 2 The Animation, C-Control, Nichibros, Kyoukai no Kanata, Jinrui wa Suitai Shimashita, Danganronpa, Un Go, Senhime Zesshou Symphogear G, WataMote, Cromartie High School, Acchi Kochi, Cardcaptor Sakura, Another, Persona 4, Jormungand, Kamisama no Memo Chou, Sword Art Online, Binbougami ga, Mirrai Nikki, Ano Hana, Hellsing, Maoyuu Maou Yuusha, Pandora Hearts, Deadman Wonderland, Blood-C, Ao No Exorcist, Kuragehime, G-Gundam, Genshiken, Steins;Gate, No. 6, Tiger & Bunny, Symphogear, Madoka, Ben-to, Baccano!, Neon Genesis Evangelion, Samurai Champloo, Black Lagoon, Cowboy Bebop, Zankyou no Terror, Hachimitsu to Clover II, Bakumatsu Rock, Medaka Box, Hachimitsu to Clover, Tokyo Ghoul, Haiyore! Nyaruko-san!, Akuma no Riddle, Servant X Service, Hai to Gensou no Grimgar, Megalo Box, Occultic;Nine, Hataraku Maou-Sama, Cuticle Tanei Inaba, Ping Pong the Animation, Joshiraku, Watashi ni Tenshi ga Maiorita!, Space☆Dandy, Code Geass: Hangyaku no Lelouch, Maoujou de Oyasumi, Denki-gai no Honya-san, Asobi Asobase, 91 Days (TV), Shoujo Shuumastu Ryokou, Danshi Koukousei no Nichijou, Irozuku Sekai no Ashita kara, Azumanga Daioh, Gankutsuou: The Count of Monte Cristo, Yuru Yuri♪♪, Baccano, Kimi ni Todoke, Grand Blue, Jojo no Kimyou na Bouken Part 4: Diamond is Unbreakable, Youjo Senki, Made in Abyss, Overlord II, Mahoutsukai no Yome, Seishun Buta Yarou wa Bunny girl Senpai no Yume wo Minai, Mitsuboshi Colors\"\n",
    "lineup_list = all_lineups.split(\", \")\n",
    "print(len(lineup_list))"
   ]
  },
  {
   "cell_type": "code",
   "execution_count": 7,
   "id": "7b6ffd19",
   "metadata": {
    "scrolled": true
   },
   "outputs": [],
   "source": [
    "#list comprehend \n",
    "in_lineup =[]\n",
    "for i in df[\"title\"]:\n",
    "    if i in lineup_list:\n",
    "        in_lineup.append(True)\n",
    "    else:\n",
    "        in_lineup.append(False)"
   ]
  },
  {
   "cell_type": "code",
   "execution_count": 8,
   "id": "719ac237",
   "metadata": {},
   "outputs": [
    {
     "name": "stdout",
     "output_type": "stream",
     "text": [
      "88\n"
     ]
    }
   ],
   "source": [
    "#add in_lineup to df\n",
    "se = pd.Series(in_lineup)\n",
    "df[\"in_lineup\"] = se.values\n",
    "print(df[\"in_lineup\"].values.sum())"
   ]
  },
  {
   "cell_type": "code",
   "execution_count": 18,
   "id": "fdd0ce3c",
   "metadata": {},
   "outputs": [
    {
     "data": {
      "text/plain": [
       "0"
      ]
     },
     "execution_count": 18,
     "metadata": {},
     "output_type": "execute_result"
    }
   ],
   "source": [
    "#visualize data\n",
    "df[\"scored_by\"].isna().sum()"
   ]
  },
  {
   "cell_type": "code",
   "execution_count": null,
   "id": "c8b2a0ad",
   "metadata": {},
   "outputs": [],
   "source": [
    "#set up model\n"
   ]
  },
  {
   "cell_type": "code",
   "execution_count": null,
   "id": "0a4d7969",
   "metadata": {},
   "outputs": [],
   "source": [
    "#decision tree stuff\n"
   ]
  }
 ],
 "metadata": {
  "kernelspec": {
   "display_name": "Python 3 (ipykernel)",
   "language": "python",
   "name": "python3"
  },
  "language_info": {
   "codemirror_mode": {
    "name": "ipython",
    "version": 3
   },
   "file_extension": ".py",
   "mimetype": "text/x-python",
   "name": "python",
   "nbconvert_exporter": "python",
   "pygments_lexer": "ipython3",
   "version": "3.9.12"
  }
 },
 "nbformat": 4,
 "nbformat_minor": 5
}
